{
 "cells": [
  {
   "cell_type": "code",
   "execution_count": 1,
   "metadata": {},
   "outputs": [],
   "source": [
    "import tensorflow as tf\n",
    "import os"
   ]
  },
  {
   "cell_type": "code",
   "execution_count": 2,
   "metadata": {},
   "outputs": [
    {
     "name": "stdout",
     "output_type": "stream",
     "text": [
      "Downloading data from https://archive.ics.uci.edu/ml/machine-learning-databases/00228/smsspamcollection.zip\n",
      "204800/203415 [==============================] - 0s 1us/step\n"
     ]
    }
   ],
   "source": [
    "data_folder = '/data/smsspamcollection/'\n",
    "if not os.path.exists(os.path.abspath('.') + data_folder):\n",
    "    data_zip = tf.keras.utils.get_file('smsspamcollection.zip',\n",
    "                                      cache_subdir=os.path.abspath('.'),\n",
    "                                      origin = 'https://archive.ics.uci.edu/ml/machine-learning-databases/00228/smsspamcollection.zip',\n",
    "                                      extract = True)\n",
    "    PATH = os.path.dirname(data_zip) + data_folder\n",
    "    os.remove(data_zip)\n",
    "else:\n",
    "    PATH = os.path.abspath('.') + data_folder"
   ]
  },
  {
   "cell_type": "code",
   "execution_count": null,
   "metadata": {},
   "outputs": [],
   "source": []
  }
 ],
 "metadata": {
  "kernelspec": {
   "display_name": "Python 3",
   "language": "python",
   "name": "python3"
  },
  "language_info": {
   "codemirror_mode": {
    "name": "ipython",
    "version": 3
   },
   "file_extension": ".py",
   "mimetype": "text/x-python",
   "name": "python",
   "nbconvert_exporter": "python",
   "pygments_lexer": "ipython3",
   "version": "3.8.3"
  }
 },
 "nbformat": 4,
 "nbformat_minor": 4
}
